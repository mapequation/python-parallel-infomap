{
 "cells": [
  {
   "cell_type": "code",
   "execution_count": 1,
   "id": "589e748a-c541-4b29-b584-2fdcffd9812e",
   "metadata": {},
   "outputs": [],
   "source": [
    "from functools import partial\n",
    "from multiprocessing import Pool\n",
    "import pandas as pd\n",
    "import seaborn as sns\n",
    "import matplotlib.pyplot as plt\n",
    "from infomap import Infomap\n",
    "from infomap_worker import infomap_worker"
   ]
  },
  {
   "cell_type": "code",
   "execution_count": 2,
   "id": "badfc421-5cfc-4105-aefb-3f6f4736e2fc",
   "metadata": {},
   "outputs": [],
   "source": [
    "args = {\n",
    "    \"silent\": True,\n",
    "    \"directed\": True\n",
    "}\n",
    "\n",
    "num_trials = 100"
   ]
  },
  {
   "cell_type": "code",
   "execution_count": 3,
   "id": "fcef82b5-00e5-4c51-b0ed-0190d7fb0e90",
   "metadata": {},
   "outputs": [
    {
     "name": "stdout",
     "output_type": "stream",
     "text": [
      "CPU times: user 1min 40s, sys: 39.1 s, total: 2min 19s\n",
      "Wall time: 40.3 s\n"
     ]
    },
    {
     "data": {
      "text/plain": [
       "(7.293725695201871, 69)"
      ]
     },
     "execution_count": 3,
     "metadata": {},
     "output_type": "execute_result"
    }
   ],
   "source": [
    "%%time\n",
    "\n",
    "im = Infomap(num_trials=num_trials, **args)\n",
    "im.read_file(\"science1997_2y.net\")\n",
    "im.run()\n",
    "im.codelength, im.num_top_modules"
   ]
  },
  {
   "cell_type": "code",
   "execution_count": 4,
   "id": "8753f700-c5c9-4b8f-b2c6-0b71ffabcabe",
   "metadata": {},
   "outputs": [
    {
     "name": "stdout",
     "output_type": "stream",
     "text": [
      "CPU times: user 56.7 ms, sys: 92.5 ms, total: 149 ms\n",
      "Wall time: 13.3 s\n"
     ]
    },
    {
     "data": {
      "text/html": [
       "<div>\n",
       "<style scoped>\n",
       "    .dataframe tbody tr th:only-of-type {\n",
       "        vertical-align: middle;\n",
       "    }\n",
       "\n",
       "    .dataframe tbody tr th {\n",
       "        vertical-align: top;\n",
       "    }\n",
       "\n",
       "    .dataframe thead th {\n",
       "        text-align: right;\n",
       "    }\n",
       "</style>\n",
       "<table border=\"1\" class=\"dataframe\">\n",
       "  <thead>\n",
       "    <tr style=\"text-align: right;\">\n",
       "      <th></th>\n",
       "      <th>codelength</th>\n",
       "      <th>num_levels</th>\n",
       "      <th>num_top_modules</th>\n",
       "      <th>eff_num_top_modules</th>\n",
       "      <th>outname</th>\n",
       "    </tr>\n",
       "  </thead>\n",
       "  <tbody>\n",
       "    <tr>\n",
       "      <th>0</th>\n",
       "      <td>7.295476</td>\n",
       "      <td>4</td>\n",
       "      <td>67</td>\n",
       "      <td>2.798894</td>\n",
       "      <td>output/science1997_52.tree</td>\n",
       "    </tr>\n",
       "    <tr>\n",
       "      <th>1</th>\n",
       "      <td>7.296154</td>\n",
       "      <td>4</td>\n",
       "      <td>69</td>\n",
       "      <td>2.827758</td>\n",
       "      <td>output/science1997_82.tree</td>\n",
       "    </tr>\n",
       "    <tr>\n",
       "      <th>2</th>\n",
       "      <td>7.296576</td>\n",
       "      <td>4</td>\n",
       "      <td>68</td>\n",
       "      <td>2.757615</td>\n",
       "      <td>output/science1997_83.tree</td>\n",
       "    </tr>\n",
       "    <tr>\n",
       "      <th>3</th>\n",
       "      <td>7.296610</td>\n",
       "      <td>4</td>\n",
       "      <td>69</td>\n",
       "      <td>2.813773</td>\n",
       "      <td>output/science1997_40.tree</td>\n",
       "    </tr>\n",
       "    <tr>\n",
       "      <th>4</th>\n",
       "      <td>7.296678</td>\n",
       "      <td>4</td>\n",
       "      <td>69</td>\n",
       "      <td>2.818492</td>\n",
       "      <td>output/science1997_44.tree</td>\n",
       "    </tr>\n",
       "  </tbody>\n",
       "</table>\n",
       "</div>"
      ],
      "text/plain": [
       "   codelength  num_levels  num_top_modules  eff_num_top_modules  \\\n",
       "0    7.295476           4               67             2.798894   \n",
       "1    7.296154           4               69             2.827758   \n",
       "2    7.296576           4               68             2.757615   \n",
       "3    7.296610           4               69             2.813773   \n",
       "4    7.296678           4               69             2.818492   \n",
       "\n",
       "                      outname  \n",
       "0  output/science1997_52.tree  \n",
       "1  output/science1997_82.tree  \n",
       "2  output/science1997_83.tree  \n",
       "3  output/science1997_40.tree  \n",
       "4  output/science1997_44.tree  "
      ]
     },
     "execution_count": 4,
     "metadata": {},
     "output_type": "execute_result"
    }
   ],
   "source": [
    "%%time\n",
    "\n",
    "worker = partial(infomap_worker, **args)\n",
    "\n",
    "with Pool() as p:\n",
    "    worker_args = ((\"science1997_2y.net\", f\"output/science1997_{seed}.tree\", seed) for seed in range(1, num_trials+1))\n",
    "    output = p.starmap(worker, worker_args)\n",
    "\n",
    "runs = pd.DataFrame(output).sort_values(\"codelength\").reset_index(drop=True)\n",
    "runs.head()"
   ]
  },
  {
   "cell_type": "code",
   "execution_count": 5,
   "id": "a3c4509c-1ad2-4772-986e-1b29e7a5d241",
   "metadata": {},
   "outputs": [
    {
     "data": {
      "text/plain": [
       "<seaborn.axisgrid.FacetGrid at 0x15406c1f0>"
      ]
     },
     "execution_count": 5,
     "metadata": {},
     "output_type": "execute_result"
    },
    {
     "data": {
      "image/png": "[encoded data removed]",
      "text/plain": [
       "<Figure size 360x360 with 2 Axes>"
      ]
     },
     "metadata": {
      "needs_background": "light"
     },
     "output_type": "display_data"
    }
   ],
   "source": [
    "sns.displot(runs,\n",
    "            y=\"codelength\",\n",
    "            x=\"eff_num_top_modules\",\n",
    "            kind=\"kde\",\n",
    "            fill=True,\n",
    "            alpha=.8,\n",
    "            cmap=\"crest\",\n",
    "            cbar=True,\n",
    "            cbar_kws={\"label\": \"density\"})"
   ]
  },
  {
   "cell_type": "code",
   "execution_count": 6,
   "id": "5ae2be3a-cfe5-46da-8290-4c8bf7f68799",
   "metadata": {},
   "outputs": [
    {
     "data": {
      "text/html": [
       "<div>\n",
       "<style scoped>\n",
       "    .dataframe tbody tr th:only-of-type {\n",
       "        vertical-align: middle;\n",
       "    }\n",
       "\n",
       "    .dataframe tbody tr th {\n",
       "        vertical-align: top;\n",
       "    }\n",
       "\n",
       "    .dataframe thead th {\n",
       "        text-align: right;\n",
       "    }\n",
       "</style>\n",
       "<table border=\"1\" class=\"dataframe\">\n",
       "  <thead>\n",
       "    <tr style=\"text-align: right;\">\n",
       "      <th></th>\n",
       "      <th>path</th>\n",
       "      <th>flow</th>\n",
       "      <th>name</th>\n",
       "      <th>node_id</th>\n",
       "      <th>module</th>\n",
       "      <th>top_module</th>\n",
       "    </tr>\n",
       "  </thead>\n",
       "  <tbody>\n",
       "    <tr>\n",
       "      <th>0</th>\n",
       "      <td>1:1:1</td>\n",
       "      <td>0.032975</td>\n",
       "      <td>J BIOL CHEM</td>\n",
       "      <td>2557</td>\n",
       "      <td>1:1</td>\n",
       "      <td>1</td>\n",
       "    </tr>\n",
       "    <tr>\n",
       "      <th>1</th>\n",
       "      <td>1:1:2</td>\n",
       "      <td>0.030853</td>\n",
       "      <td>NATURE</td>\n",
       "      <td>3683</td>\n",
       "      <td>1:1</td>\n",
       "      <td>1</td>\n",
       "    </tr>\n",
       "    <tr>\n",
       "      <th>2</th>\n",
       "      <td>1:1:3</td>\n",
       "      <td>0.029864</td>\n",
       "      <td>SCIENCE</td>\n",
       "      <td>4460</td>\n",
       "      <td>1:1</td>\n",
       "      <td>1</td>\n",
       "    </tr>\n",
       "    <tr>\n",
       "      <th>3</th>\n",
       "      <td>1:1:4</td>\n",
       "      <td>0.024917</td>\n",
       "      <td>P NATL ACAD SCI USA</td>\n",
       "      <td>3934</td>\n",
       "      <td>1:1</td>\n",
       "      <td>1</td>\n",
       "    </tr>\n",
       "    <tr>\n",
       "      <th>4</th>\n",
       "      <td>1:1:5</td>\n",
       "      <td>0.022752</td>\n",
       "      <td>CELL</td>\n",
       "      <td>965</td>\n",
       "      <td>1:1</td>\n",
       "      <td>1</td>\n",
       "    </tr>\n",
       "    <tr>\n",
       "      <th>...</th>\n",
       "      <td>...</td>\n",
       "      <td>...</td>\n",
       "      <td>...</td>\n",
       "      <td>...</td>\n",
       "      <td>...</td>\n",
       "      <td>...</td>\n",
       "    </tr>\n",
       "    <tr>\n",
       "      <th>6434</th>\n",
       "      <td>63:1</td>\n",
       "      <td>0.000000</td>\n",
       "      <td>SOC DYNAMICS</td>\n",
       "      <td>6276</td>\n",
       "      <td>63</td>\n",
       "      <td>63</td>\n",
       "    </tr>\n",
       "    <tr>\n",
       "      <th>6435</th>\n",
       "      <td>64:1</td>\n",
       "      <td>0.000000</td>\n",
       "      <td>WILSON LIBR BULL</td>\n",
       "      <td>6405</td>\n",
       "      <td>64</td>\n",
       "      <td>64</td>\n",
       "    </tr>\n",
       "    <tr>\n",
       "      <th>6436</th>\n",
       "      <td>65:1</td>\n",
       "      <td>0.000000</td>\n",
       "      <td>WORKFORCE</td>\n",
       "      <td>6415</td>\n",
       "      <td>65</td>\n",
       "      <td>65</td>\n",
       "    </tr>\n",
       "    <tr>\n",
       "      <th>6437</th>\n",
       "      <td>66:1</td>\n",
       "      <td>0.000000</td>\n",
       "      <td>ACTA BIOL CRACOV BOT</td>\n",
       "      <td>33</td>\n",
       "      <td>66</td>\n",
       "      <td>66</td>\n",
       "    </tr>\n",
       "    <tr>\n",
       "      <th>6438</th>\n",
       "      <td>67:1</td>\n",
       "      <td>0.000000</td>\n",
       "      <td>ZEITGESCHICHTE</td>\n",
       "      <td>6439</td>\n",
       "      <td>67</td>\n",
       "      <td>67</td>\n",
       "    </tr>\n",
       "  </tbody>\n",
       "</table>\n",
       "<p>6439 rows × 6 columns</p>\n",
       "</div>"
      ],
      "text/plain": [
       "       path      flow                  name  node_id module top_module\n",
       "0     1:1:1  0.032975           J BIOL CHEM     2557    1:1          1\n",
       "1     1:1:2  0.030853                NATURE     3683    1:1          1\n",
       "2     1:1:3  0.029864               SCIENCE     4460    1:1          1\n",
       "3     1:1:4  0.024917   P NATL ACAD SCI USA     3934    1:1          1\n",
       "4     1:1:5  0.022752                  CELL      965    1:1          1\n",
       "...     ...       ...                   ...      ...    ...        ...\n",
       "6434   63:1  0.000000          SOC DYNAMICS     6276     63         63\n",
       "6435   64:1  0.000000      WILSON LIBR BULL     6405     64         64\n",
       "6436   65:1  0.000000             WORKFORCE     6415     65         65\n",
       "6437   66:1  0.000000  ACTA BIOL CRACOV BOT       33     66         66\n",
       "6438   67:1  0.000000        ZEITGESCHICHTE     6439     67         67\n",
       "\n",
       "[6439 rows x 6 columns]"
      ]
     },
     "execution_count": 6,
     "metadata": {},
     "output_type": "execute_result"
    }
   ],
   "source": [
    "best = runs.iloc[0].outname\n",
    "tree = pd.read_csv(best, sep=\" \", comment=\"#\", names=[\"path\", \"flow\", \"name\", \"node_id\"])\n",
    "tree[\"module\"] = tree.path.apply(lambda x: \":\".join(x.split(\":\")[0:-1]))\n",
    "tree[\"top_module\"] = tree.path.apply(lambda x: x.split(\":\")[0])\n",
    "tree"
   ]
  },
  {
   "cell_type": "code",
   "execution_count": null,
   "id": "3601f1ab-d728-4aae-9e3a-12ec135382b4",
   "metadata": {},
   "outputs": [],
   "source": []
  }
 ],
 "metadata": {
  "kernelspec": {
   "display_name": "Python 3 (ipykernel)",
   "language": "python",
   "name": "python3"
  },
  "language_info": {
   "codemirror_mode": {
    "name": "ipython",
    "version": 3
   },
   "file_extension": ".py",
   "mimetype": "text/x-python",
   "name": "python",
   "nbconvert_exporter": "python",
   "pygments_lexer": "ipython3",
   "version": "3.9.7"
  }
 },
 "nbformat": 4,
 "nbformat_minor": 5
}
